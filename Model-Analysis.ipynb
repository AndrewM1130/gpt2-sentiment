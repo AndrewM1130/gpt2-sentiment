{
 "cells": [
  {
   "cell_type": "code",
   "execution_count": 62,
   "metadata": {},
   "outputs": [],
   "source": [
    "import numpy as np\n",
    "from itertools import permutations\n",
    "import matplotlib.pyplot as plt\n",
    "import seaborn as sns"
   ]
  },
  {
   "cell_type": "code",
   "execution_count": 63,
   "metadata": {},
   "outputs": [],
   "source": [
    "keywords = ['good', 'bad', 'positive', 'negative']\n",
    "pair1 = keywords[0:2]\n",
    "pair2 = keywords[2:4]\n",
    "mapping = dict(zip(pair1, pair2))"
   ]
  },
  {
   "cell_type": "code",
   "execution_count": 64,
   "metadata": {},
   "outputs": [],
   "source": [
    "prompt = \"The sentiment of '{}' is \""
   ]
  },
  {
   "cell_type": "code",
   "execution_count": 66,
   "metadata": {},
   "outputs": [
    {
     "data": {
      "text/plain": [
       "\"The sentiment of 'love and romance are integral parts of human nature' is good.             The sentiment of 'distressed widow living alone' is negative. The sentiment             of 'wonderful joyous refreshing days ahead' is good. The sentiment of 'sad             depressing nights' is negative. The sentiment of 'the broken glass             shattered onto the bloody floor' is negative. The sentiment of '{}' is \""
      ]
     },
     "execution_count": 66,
     "metadata": {},
     "output_type": "execute_result"
    }
   ],
   "source": [
    "complete =  \"The sentiment of 'love and romance are integral parts of human nature' is good. \\\n",
    "            The sentiment of 'distressed widow living alone' is bad. The sentiment \\\n",
    "            of 'wonderful joyous refreshing days ahead' is good. The sentiment of 'sad \\\n",
    "            depressing nights' is bad. The sentiment of 'the broken glass \\\n",
    "            shattered onto the bloody floor' is bad. The sentiment of '{}' is \"\n",
    "\n",
    "\n",
    "# Iterate over all key-value pairs in dictionary \n",
    "for key, value in mapping.items():\n",
    "    # Replace key character with value character in string\n",
    "    replaced = complete.replace(key, value)\n",
    "\n",
    "replaced"
   ]
  },
  {
   "cell_type": "code",
   "execution_count": 77,
   "metadata": {},
   "outputs": [],
   "source": [
    "## 10 prompts \n",
    "test = \"The sentiment of 'love and romance are integral parts of human nature' is good. \\\n",
    "The sentiment of 'distressed widow living alone' is bad. \\\n",
    "The sentiment of 'wonderful joyous refreshing days ahead' is good. \\\n",
    "The sentiment of 'sad depressing nights' is bad. \\\n",
    "The sentiment of 'that loves its characters and communicates \\\n",
    "something rather beautiful about human nature' is good. \\\n",
    "The sentiment of 'John left, and he didn't even say goodbye.' is bad. \\\n",
    "The sentiment of 'demonstrates that the director of such hollywood \\\n",
    "blockbusters can still turn out a small , personal film with an \\\n",
    "emotional wallop .' is good. \\\n",
    "The sentiment of 'these shoes won't fit into the trunk they're next to.' is bad. \\\n",
    "The sentiment of 'equals the original and in some ways even betters it' is good. \\\n",
    "The sentiment of 'She is not happy, is she?' is bad. \\ \""
   ]
  },
  {
   "cell_type": "code",
   "execution_count": 87,
   "metadata": {},
   "outputs": [
    {
     "data": {
      "text/plain": [
       "\"The sentiment of 'love and romance are integral parts of human nature' is good. The sentiment of 'distressed widow living alone' is bad. The sentiment of 'wonderful joyous refreshing days ahead' is good. The sentiment of '{}' is \""
      ]
     },
     "execution_count": 87,
     "metadata": {},
     "output_type": "execute_result"
    }
   ],
   "source": [
    "## test 10 - 0 -> accuracy & zero-shot(transfer) learning \n",
    "temp = test.split(\". \")\n",
    "p1 = [temp[0:i] for i in range(1,11)]\n",
    "master = ['. '.join(p1[i]) + \". \" + prompt for i in range(0,10)]\n",
    "master[2]"
   ]
  },
  {
   "cell_type": "code",
   "execution_count": 135,
   "metadata": {},
   "outputs": [],
   "source": [
    "## random permutation of 4 prompts -> order matters\n",
    "test2 =  \"The sentiment of 'love and romance are integral parts of human nature' is good. \\\n",
    "The sentiment of 'distressed widow living alone' is bad. \\\n",
    "The sentiment of 'wonderful joyous refreshing days ahead' is good. \\\n",
    "The sentiment of 'sad depressing nights' is bad. \\ \" "
   ]
  },
  {
   "cell_type": "code",
   "execution_count": 154,
   "metadata": {},
   "outputs": [
    {
     "data": {
      "text/plain": [
       "\"The sentiment of 'love and romance are integral parts of human nature' is good. The sentiment of 'distressed widow living alone' is bad. The sentiment of 'wonderful joyous refreshing days ahead' is good. The sentiment of 'sad depressing nights' is bad. The sentiment of '{}' is \""
      ]
     },
     "execution_count": 154,
     "metadata": {},
     "output_type": "execute_result"
    }
   ],
   "source": [
    "p2 = test2.split(\". \")\n",
    "p2.pop()\n",
    "l = list(permutations(p2))\n",
    "master = ['. '.join(l[i]) + \". \" + prompt for i in range(0,24)]\n",
    "master[0]"
   ]
  },
  {
   "cell_type": "code",
   "execution_count": 55,
   "metadata": {},
   "outputs": [],
   "source": [
    "# format of prompts\n",
    "format1 = \" The sentiment of 'love and romance are integral parts of human nature' is good. \\\n",
    "            The sentiment of 'distressed widow living alone' is bad. The sentiment \\\n",
    "            of 'wonderful joyous refreshing days ahead' is good. The sentiment of 'sad \\\n",
    "            depressing nights' is bad. The sentiment of 'the broken glass \\\n",
    "            shattered onto the bloody floor' is bad. The sentiment of '{}' is \"\n",
    "\n",
    "format2 = \" 'Love and romance are integral parts of human nature' Sentiment: Good. \\\n",
    "            'Distressed widow living alone' Sentiment: Bad. \\\n",
    "            'Wonderful joyous refreshing days ahead' Sentiment: Good. \\\n",
    "            'Sad depressing nights' is bad Sentiment: Bad. \\\n",
    "            '{}' Sentiment: \""
   ]
  },
  {
   "cell_type": "code",
   "execution_count": 73,
   "metadata": {},
   "outputs": [],
   "source": [
    "## import numpy accuracy arrays\n",
    "\n",
    "# Num 1\n",
    "\n",
    "# Num 2"
   ]
  }
 ],
 "metadata": {
  "interpreter": {
   "hash": "1932785456cf4f119288ea3ebcc1e995dabfb0fd145e6ee6d8e83b8ee89252d0"
  },
  "kernelspec": {
   "display_name": "Python 3.8.3 ('base')",
   "language": "python",
   "name": "python3"
  },
  "language_info": {
   "codemirror_mode": {
    "name": "ipython",
    "version": 3
   },
   "file_extension": ".py",
   "mimetype": "text/x-python",
   "name": "python",
   "nbconvert_exporter": "python",
   "pygments_lexer": "ipython3",
   "version": "3.8.3"
  },
  "orig_nbformat": 4
 },
 "nbformat": 4,
 "nbformat_minor": 2
}
