{
  "nbformat": 4,
  "nbformat_minor": 0,
  "metadata": {
    "colab": {
      "provenance": [],
      "gpuType": "T4"
    },
    "kernelspec": {
      "name": "python3",
      "display_name": "Python 3"
    },
    "language_info": {
      "name": "python"
    },
    "accelerator": "GPU"
  },
  "cells": [
    {
      "cell_type": "markdown",
      "source": [
        "## Required Packages & Setup\n",
        "\n",
        "Modern language models are often trained on hundreds of gigabytes of data and can't be easily replicated as a course project. In this project, we'll show how to use existing pre-trained transformer language models with the Python [`transformers` library](https://huggingface.co/docs/transformers/index)."
      ],
      "metadata": {
        "id": "f3aEKiYxBARw"
      }
    },
    {
      "cell_type": "code",
      "execution_count": null,
      "metadata": {
        "id": "zbsUPwNMA10m",
        "colab": {
          "base_uri": "https://localhost:8080/"
        },
        "outputId": "2ff5ec76-59ef-40a6-e571-c7f1c32cf99a"
      },
      "outputs": [
        {
          "output_type": "stream",
          "name": "stdout",
          "text": [
            "Requirement already satisfied: torch in /usr/local/lib/python3.10/dist-packages (2.1.0+cu121)\n",
            "Requirement already satisfied: filelock in /usr/local/lib/python3.10/dist-packages (from torch) (3.13.1)\n",
            "Requirement already satisfied: typing-extensions in /usr/local/lib/python3.10/dist-packages (from torch) (4.10.0)\n",
            "Requirement already satisfied: sympy in /usr/local/lib/python3.10/dist-packages (from torch) (1.12)\n",
            "Requirement already satisfied: networkx in /usr/local/lib/python3.10/dist-packages (from torch) (3.2.1)\n",
            "Requirement already satisfied: jinja2 in /usr/local/lib/python3.10/dist-packages (from torch) (3.1.3)\n",
            "Requirement already satisfied: fsspec in /usr/local/lib/python3.10/dist-packages (from torch) (2023.6.0)\n",
            "Requirement already satisfied: triton==2.1.0 in /usr/local/lib/python3.10/dist-packages (from torch) (2.1.0)\n",
            "Requirement already satisfied: MarkupSafe>=2.0 in /usr/local/lib/python3.10/dist-packages (from jinja2->torch) (2.1.5)\n",
            "Requirement already satisfied: mpmath>=0.19 in /usr/local/lib/python3.10/dist-packages (from sympy->torch) (1.3.0)\n"
          ]
        }
      ],
      "source": [
        "from collections import defaultdict, Counter\n",
        "import numpy as np\n",
        "import math\n",
        "import matplotlib.pyplot as plt\n",
        "import tqdm\n",
        "import random\n",
        "import pdb\n",
        "import regex as re\n",
        "import seaborn as sns\n",
        "\n",
        "!pip install torch\n",
        "import torch\n",
        "from torch import nn\n",
        "import torch.nn.functional as F"
      ]
    },
    {
      "cell_type": "markdown",
      "source": [
        "### Inference with Autoregressive Models\n",
        "\n",
        "We'll start by computing word probabilities under the autoregressive [GPT-2 model](https://cdn.openai.com/better-language-models/language_models_are_unsupervised_multitask_learners.pdf). To do so, we'll install the `transformers` library, which isn't natively installed on Google Colaboratory. We'll import a pre-trained `GPT2LMHeadModel` and its corresponding tokenizer, `GPT2TokenizerFast`. Note that without additional training, you can't freely mix-and-match models and their corresponding tokenizers! We aren't using the largest available models, such as [GPT-3](https://arxiv.org/abs/2005.14165), because they do not provide free inference. Larger freely available models such as [GPT-J](https://huggingface.co/EleutherAI/gpt-j-6B) do exist though, and you should feel free to play around with them."
      ],
      "metadata": {
        "id": "pZ6t0AvsBDM9"
      }
    },
    {
      "cell_type": "code",
      "source": [
        "!pip install transformers\n",
        "from transformers import GPT2LMHeadModel, GPT2TokenizerFast"
      ],
      "metadata": {
        "colab": {
          "base_uri": "https://localhost:8080/"
        },
        "id": "OvJjfWIsBDfz",
        "outputId": "735981ce-c0c9-480e-e0fb-045456620661"
      },
      "execution_count": null,
      "outputs": [
        {
          "output_type": "stream",
          "name": "stdout",
          "text": [
            "Requirement already satisfied: transformers in /usr/local/lib/python3.10/dist-packages (4.38.2)\n",
            "Requirement already satisfied: filelock in /usr/local/lib/python3.10/dist-packages (from transformers) (3.13.1)\n",
            "Requirement already satisfied: huggingface-hub<1.0,>=0.19.3 in /usr/local/lib/python3.10/dist-packages (from transformers) (0.20.3)\n",
            "Requirement already satisfied: numpy>=1.17 in /usr/local/lib/python3.10/dist-packages (from transformers) (1.25.2)\n",
            "Requirement already satisfied: packaging>=20.0 in /usr/local/lib/python3.10/dist-packages (from transformers) (23.2)\n",
            "Requirement already satisfied: pyyaml>=5.1 in /usr/local/lib/python3.10/dist-packages (from transformers) (6.0.1)\n",
            "Requirement already satisfied: regex!=2019.12.17 in /usr/local/lib/python3.10/dist-packages (from transformers) (2023.12.25)\n",
            "Requirement already satisfied: requests in /usr/local/lib/python3.10/dist-packages (from transformers) (2.31.0)\n",
            "Requirement already satisfied: tokenizers<0.19,>=0.14 in /usr/local/lib/python3.10/dist-packages (from transformers) (0.15.2)\n",
            "Requirement already satisfied: safetensors>=0.4.1 in /usr/local/lib/python3.10/dist-packages (from transformers) (0.4.2)\n",
            "Requirement already satisfied: tqdm>=4.27 in /usr/local/lib/python3.10/dist-packages (from transformers) (4.66.2)\n",
            "Requirement already satisfied: fsspec>=2023.5.0 in /usr/local/lib/python3.10/dist-packages (from huggingface-hub<1.0,>=0.19.3->transformers) (2023.6.0)\n",
            "Requirement already satisfied: typing-extensions>=3.7.4.3 in /usr/local/lib/python3.10/dist-packages (from huggingface-hub<1.0,>=0.19.3->transformers) (4.10.0)\n",
            "Requirement already satisfied: charset-normalizer<4,>=2 in /usr/local/lib/python3.10/dist-packages (from requests->transformers) (3.3.2)\n",
            "Requirement already satisfied: idna<4,>=2.5 in /usr/local/lib/python3.10/dist-packages (from requests->transformers) (3.6)\n",
            "Requirement already satisfied: urllib3<3,>=1.21.1 in /usr/local/lib/python3.10/dist-packages (from requests->transformers) (2.0.7)\n",
            "Requirement already satisfied: certifi>=2017.4.17 in /usr/local/lib/python3.10/dist-packages (from requests->transformers) (2024.2.2)\n"
          ]
        }
      ]
    },
    {
      "cell_type": "markdown",
      "source": [
        "The following code downloads model weights and can take a few minutes to run. For debugging purposes, feel free to swap out `gpt2-large` with a smaller model that downloads faster. Note that predictions made by `gpt-medium` and `gpt-small` are trained with less samples, implying lower predictive power."
      ],
      "metadata": {
        "id": "YXb10wWNBD1I"
      }
    },
    {
      "cell_type": "code",
      "source": [
        "if torch.cuda.is_available():\n",
        "    device = \"cuda\"\n",
        "    print(\"Running on GPU\")\n",
        "else:\n",
        "    device = \"cpu\"\n",
        "    print(\"Running on CPU\")\n",
        "\n",
        "model = GPT2LMHeadModel.from_pretrained(\"gpt2-large\").to(device)\n",
        "tokenizer = GPT2TokenizerFast.from_pretrained(\"gpt2-large\")"
      ],
      "metadata": {
        "colab": {
          "base_uri": "https://localhost:8080/"
        },
        "id": "wLRHl95-BD8p",
        "outputId": "28196bdf-ec25-42d1-c038-a8a913f272ab"
      },
      "execution_count": null,
      "outputs": [
        {
          "output_type": "stream",
          "name": "stdout",
          "text": [
            "Running on GPU\n"
          ]
        },
        {
          "output_type": "stream",
          "name": "stderr",
          "text": [
            "/usr/local/lib/python3.10/dist-packages/huggingface_hub/utils/_token.py:88: UserWarning: \n",
            "The secret `HF_TOKEN` does not exist in your Colab secrets.\n",
            "To authenticate with the Hugging Face Hub, create a token in your settings tab (https://huggingface.co/settings/tokens), set it as secret in your Google Colab and restart your session.\n",
            "You will be able to reuse this secret in all of your notebooks.\n",
            "Please note that authentication is recommended but still optional to access public models or datasets.\n",
            "  warnings.warn(\n"
          ]
        }
      ]
    },
    {
      "cell_type": "markdown",
      "source": [
        "We'll extract the vocabulary from the tokenizer so that we can easily see the words we're dealing with:"
      ],
      "metadata": {
        "id": "L8FUrz7g6OCz"
      }
    },
    {
      "cell_type": "code",
      "source": [
        "# Vocab Map\n",
        "vocab_map = {}\n",
        "vocab = tokenizer.vocab\n",
        "for token in tqdm.tqdm(vocab):\n",
        "    idx = vocab[token]\n",
        "    vocab_map[idx] = token"
      ],
      "metadata": {
        "colab": {
          "base_uri": "https://localhost:8080/"
        },
        "id": "cELG1i7kA71W",
        "outputId": "dda38ece-6eda-4cdc-f502-b0a5f7a81870"
      },
      "execution_count": null,
      "outputs": [
        {
          "output_type": "stream",
          "name": "stderr",
          "text": [
            "100%|██████████| 50257/50257 [00:00<00:00, 1041679.08it/s]\n"
          ]
        }
      ]
    },
    {
      "cell_type": "markdown",
      "source": [
        "We can use our tokenizer to convert sentences into tensors and use `vocab_map` to see what indices of these tensors correspond to. This will show which words are broken into subwords by the GPT-2 tokenizer. Note that `<|endoftext|>` is equivalent to `<eos>` in the previous notebook:"
      ],
      "metadata": {
        "id": "z6JfV-Mf6Ouq"
      }
    },
    {
      "cell_type": "code",
      "source": [
        "# Example Sentence Encoding\n",
        "sentence = \"<|endoftext|>I love LTSMs\"\n",
        "encodings = tokenizer(sentence, return_tensors='pt')\n",
        "print(encodings[\"input_ids\"])\n",
        "print([vocab_map[int(idx)] for idx in encodings[\"input_ids\"][0]])"
      ],
      "metadata": {
        "colab": {
          "base_uri": "https://localhost:8080/"
        },
        "id": "YDqjCpcvBJlm",
        "outputId": "fbadb19f-7edf-43dc-8577-bd4af7681c77"
      },
      "execution_count": null,
      "outputs": [
        {
          "output_type": "stream",
          "name": "stdout",
          "text": [
            "tensor([[50256,    40,  1842,   406,  4694, 10128]])\n",
            "['<|endoftext|>', 'I', 'Ġlove', 'ĠL', 'TS', 'Ms']\n"
          ]
        }
      ]
    },
    {
      "cell_type": "markdown",
      "source": [
        "As we can see from the above example, rare words like \"LSTMs\" are broken into multiple subwords by the GPT-2 tokenizer. Additionally, note that the token \"Ġ\" corresponds to a blank space, so we can reconstruct word boundaries from the tokenizer outputs. Given a sentence, we'll now use GPT-2 to compute contextual word probabilities for every word. Some hints for doing this:\n",
        "\n",
        "\n",
        "* Check the documentation for the GPT2LMHeadModel here: https://huggingface.co/docs/transformers/model_doc/gpt2#transformers.GPT2LMHeadModel\n",
        "* Begin by adding the `<|endoftext|>` token and passing the sentence into the tokenizer, as shown above\n",
        "* Compute word probabilities by taking `model(input_ids).logits`\n",
        "* Then, you'll need to `softmax` and index into the logits using `torch.gather` (the hardest part)\n",
        "* Finally, convert to word probabilities (rather than subword probabilities) using `vocab_map` and the \"Ġ\" token\n",
        "\n"
      ],
      "metadata": {
        "id": "tVQHNBVc6SxW"
      }
    },
    {
      "cell_type": "code",
      "source": [
        "def get_gpt_probs(sentence):\n",
        "    words = []\n",
        "    probs = []\n",
        "    sentence = \"<|endoftext|>\" + sentence\n",
        "    encodings = tokenizer(sentence, return_tensors='pt')\n",
        "    input_ids = encodings[\"input_ids\"].to(device)\n",
        "    logits = model(input_ids).logits\n",
        "    logits = F.log_softmax(logits, dim=-1).squeeze(0)\n",
        "\n",
        "    p = torch.gather(logits, dim=-1, index=input_ids.squeeze(0).unsqueeze(-1)[1:]).flatten().tolist()\n",
        "    w = [vocab_map[int(idx)] for idx in encodings[\"input_ids\"][0]][1:]\n",
        "    assert len(p) == len(w)\n",
        "\n",
        "    word = \"\"\n",
        "    prob = 0\n",
        "    for i in range(len(w)):\n",
        "      word += w[i]\n",
        "      prob += p[i]\n",
        "      if i+1 == len(w) or w[i+1][0] == \"Ġ\":\n",
        "        words.append(word)\n",
        "        probs.append(-prob)\n",
        "        word = \"\"\n",
        "        prob = 0\n",
        "\n",
        "    # # END SOlUTION\n",
        "    return [(word, prob) for word, prob in zip(words, probs)]\n",
        "\n",
        "get_gpt_probs(\"The florist sent the flowers was pleased.\")"
      ],
      "metadata": {
        "colab": {
          "base_uri": "https://localhost:8080/"
        },
        "id": "MQ0M4YJE1S0Q",
        "outputId": "ec564fc7-a71e-4fce-edbe-881f1f2dd51c"
      },
      "execution_count": null,
      "outputs": [
        {
          "output_type": "execute_result",
          "data": {
            "text/plain": [
              "[('The', 2.4790923595428467),\n",
              " ('Ġflorist', 13.309796154499054),\n",
              " ('Ġsent', 8.142409324645996),\n",
              " ('Ġthe', 2.366190195083618),\n",
              " ('Ġflowers', 1.4056129455566406),\n",
              " ('Ġwas', 9.130632400512695),\n",
              " ('Ġpleased.', 9.912347078323364)]"
            ]
          },
          "metadata": {},
          "execution_count": 6
        }
      ]
    },
    {
      "cell_type": "code",
      "source": [
        "# To check that your implementation is roughly correct:\n",
        "def compare_probs(predictions, gold):\n",
        "  assert len(predictions) == len(gold)\n",
        "  for x,y in zip(predictions, gold):\n",
        "    assert np.abs(x[1]-y[1]) < 0.01\n",
        "  print(\"Passed\")\n",
        "\n",
        "predictions = get_gpt_probs(\"The florist sent the flowers was pleased.\")\n",
        "gold = [('The', 2.4790916442871094), ('Ġflorist', 13.309800148010254), ('Ġsent', 8.14240837097168), ('Ġthe', 2.3661890029907227), ('Ġflowers', 1.4056150913238525), ('Ġwas', 9.130632400512695), ('Ġpleased.', 9.912347793579102)]\n",
        "compare_probs(predictions, gold)\n",
        "\n",
        "predictions = get_gpt_probs(\"I like LSTMs\")\n",
        "gold = [('I', 4.226133823394775), ('Ġlike', 5.041623115539551), ('ĠLSTMs', 17.857036590576172)]\n",
        "compare_probs(predictions, gold)"
      ],
      "metadata": {
        "colab": {
          "base_uri": "https://localhost:8080/"
        },
        "id": "hjA8RGGz6XhH",
        "outputId": "e9363a5e-ff35-4b9a-85fd-919d9f507554"
      },
      "execution_count": null,
      "outputs": [
        {
          "output_type": "stream",
          "name": "stdout",
          "text": [
            "Passed\n",
            "Passed\n"
          ]
        }
      ]
    },
    {
      "cell_type": "markdown",
      "source": [
        "We wrote some plotting code so you can visualize these probabilities for individual sentences. Note that this code might break on unusually long sentences, but we've provided a couple of examples below:"
      ],
      "metadata": {
        "id": "0ExAtjdN6Tkc"
      }
    },
    {
      "cell_type": "code",
      "source": [
        "def plot_gpt_probs(sentence):\n",
        "  words = sentence.split()\n",
        "  probs = get_gpt_probs(sentence)\n",
        "  assert len(words) == len(probs)\n",
        "  probs = np.asarray([probs[0][1]] + [prob[1] for prob in probs])\n",
        "  x = np.arange(len(probs))\n",
        "  plt.step(x, probs, where=\"pre\", color=\"black\", linestyle=\"dashed\")\n",
        "  text_x = (x[1:] + x[:-1])/2\n",
        "  text_y = probs[1:] + 0.25\n",
        "  for idx in range(len(words)):\n",
        "      plt.text(text_x[idx], text_y[idx], words[idx], ha=\"center\")\n",
        "  plt.ylim([min(probs)-1, max(probs)+1])\n",
        "  plt.xticks()\n",
        "  plt.ylabel(\"Log Likelihood (GPT-2)\")\n",
        "  plt.tick_params(\n",
        "      axis='x',\n",
        "      which='both',\n",
        "      bottom=False,\n",
        "      top=False,\n",
        "      labelbottom=False)\n",
        "  plt.show()\n",
        "\n",
        "plot_gpt_probs(\"The florist sent the flowers was pleased.\")\n",
        "plot_gpt_probs(\"The florist sent the flowers to me.\")"
      ],
      "metadata": {
        "colab": {
          "base_uri": "https://localhost:8080/",
          "height": 802
        },
        "id": "2yHuCWe21Vba",
        "outputId": "7f404253-d27a-4cf8-b009-af6692a32d03"
      },
      "execution_count": null,
      "outputs": [
        {
          "output_type": "display_data",
          "data": {
            "text/plain": [
              "<Figure size 640x480 with 1 Axes>"
            ],
            "image/png": "[encoded data removed]"
          },
          "metadata": {}
        },
        {
          "output_type": "display_data",
          "data": {
            "text/plain": [
              "<Figure size 640x480 with 1 Axes>"
            ],
            "image/png": "[encoded data removed]"
          },
          "metadata": {}
        }
      ]
    },
    {
      "cell_type": "markdown",
      "source": [
        "The first sentence above is an example of a [garden-path sentence](https://en.wikipedia.org/wiki/Garden-path_sentence). Even though it's a fairly common word, \"was\" is assigned low probability because it's unlikely in the context; other words like \"florist\" and \"pleased\" are also low probability, but they're rarer across all contexts they appear in (i.e., lower unigram probability). The second sentence shows a non-garden-path continuation with much higher probability.\n",
        "\n",
        "One downside of transformer language models is that they have a fixed length, so [computing perplexity can be expensive](https://huggingface.co/transformers/v3.2.0/perplexity.html). Although using a sliding window is the most principled way to compute perplexity with GPT-2, [striding can also provide good results with faster inference](https://arxiv.org/pdf/2012.15832.pdf). Next, we'll modify our existing function to handle longer sequences. Our model has an effective context length of 1024 tokens, and we'll use a stride of 512. This means that every token will be predicted with at least 512 tokens in the context."
      ],
      "metadata": {
        "id": "v-ZqwlnD6a-V"
      }
    },
    {
      "cell_type": "code",
      "source": [
        "stride = 512\n",
        "print(\"Context length: {}\".format(model.config.n_positions))\n",
        "max_length = model.config.n_positions"
      ],
      "metadata": {
        "colab": {
          "base_uri": "https://localhost:8080/"
        },
        "id": "ngwqrQ6E6d8s",
        "outputId": "b362ec99-d683-4f81-9f43-6648792df8f7"
      },
      "execution_count": null,
      "outputs": [
        {
          "output_type": "stream",
          "name": "stdout",
          "text": [
            "Context length: 1024\n"
          ]
        }
      ]
    },
    {
      "cell_type": "code",
      "source": [
        "def get_gpt_probs(document, stride=512):\n",
        "\n",
        "    # YOUR CODE HERE\n",
        "\n",
        "    # BEGIN SOLUTION\n",
        "\n",
        "    words = []\n",
        "    probs = []\n",
        "\n",
        "    ## handle first 512 seperately (no context)\n",
        "    encodings = tokenizer('<|endoftext|>' + document, return_tensors='pt')\n",
        "    map = [vocab_map[int(idx)] for idx in encodings[\"input_ids\"][0]] # list of input ids\n",
        "\n",
        "    total = encodings.input_ids.squeeze(0).to(device)\n",
        "\n",
        "    first = total[:stride]\n",
        "    with torch.no_grad():\n",
        "      logits = model(first).logits.squeeze(0)\n",
        "      logits = F.log_softmax(logits.to(device), dim = 1).view(len(first), -1)\n",
        "      first = torch.gather(logits, dim = 1, index = total[1:stride].unsqueeze(-1)).squeeze().tolist()\n",
        "      probs.extend(first)\n",
        "\n",
        "    ## batching takes too much memory(I think) - there would be a resulting ~227 lists of length 1024 that would need to be stored\n",
        "    ## let's try a good old fashioned for-loop & append method; we will replace the list in memory each time to save space\n",
        "    start = 0\n",
        "    end = max_length\n",
        "\n",
        "    with torch.no_grad():\n",
        "      while(end < len(total)):\n",
        "        current = total[start:end]\n",
        "        logits = model(current).logits.squeeze(0)\n",
        "        logits = F.log_softmax(logits.to(device), dim = 1).view(len(current), -1)\n",
        "        current = torch.gather(logits, dim = 1, index = total[start+512:end].unsqueeze(-1)).squeeze().tolist()\n",
        "        probs.extend(current)\n",
        "        start+=512\n",
        "        end+=512\n",
        "\n",
        "    last = total[-max_length:]\n",
        "    with torch.no_grad():\n",
        "      logits = model(last).logits.squeeze(0)\n",
        "      logits = F.log_softmax(logits.to(device), dim = 1).view(len(last), -1)\n",
        "      current = torch.gather(logits, dim = 1, index = total[232448:].unsqueeze(-1)).squeeze().tolist()\n",
        "      probs.extend(current)\n",
        "\n",
        "    assert len(map[1:]) == len(probs)\n",
        "\n",
        "\n",
        "    new_dict = {subword:abs(prob) for subword,prob in zip(map[1:],probs)}\n",
        "\n",
        "    ## prepare to concatenate\n",
        "    res = []\n",
        "    total_word = ''\n",
        "    total_prob = 0\n",
        "\n",
        "    ## play around with dictionary we made from the logit table\n",
        "    for i in range(len(map)):\n",
        "\n",
        "        ## skip the first case\n",
        "        if i == 0:\n",
        "            continue\n",
        "\n",
        "        ## hold the current word and its respective probability prob the dictionary\n",
        "        word = map[i]\n",
        "        prob = new_dict[word]\n",
        "\n",
        "        ## finding a 'G' means that we reset our \"holding\" variables\n",
        "        if 'Ġ' in word:\n",
        "            ## new item in the list\n",
        "            res.append((total_word, total_prob))\n",
        "            total_word = ''\n",
        "            total_prob = 0\n",
        "\n",
        "        ## for tokens without starter add to previous one until we see another starter character again\n",
        "        total_word = total_word + word\n",
        "        total_prob = total_prob + prob\n",
        "\n",
        "    ## everything in tuple form for zip & comparison\n",
        "    res.append((total_word,total_prob))\n",
        "\n",
        "    return res"
      ],
      "metadata": {
        "id": "IWnY-4j76fW8"
      },
      "execution_count": null,
      "outputs": []
    },
    {
      "cell_type": "markdown",
      "source": [
        "We'll now compute the probabilities of every word in Pride and Prejudice using GPT-2. Note that this will take a very long time to run with a small stride, so you're encouraged to get the implementation of striding correct."
      ],
      "metadata": {
        "id": "KkC-b-w3RavT"
      }
    },
    {
      "cell_type": "code",
      "source": [
        "!wget https://cal-cs288.github.io/sp22/project_files/hw1/pride.txt\n",
        "with open(\"pride.txt\", \"r\") as infile:\n",
        "  text = infile.read()\n",
        "output = get_gpt_probs(text, stride=512)\n",
        "probs = np.asarray([val[1] for val in output])\n",
        "np.save(\"word_probs.npy\", probs)\n",
        "torch.cuda.empty_cache()"
      ],
      "metadata": {
        "colab": {
          "base_uri": "https://localhost:8080/"
        },
        "id": "5R9YGlke627j",
        "outputId": "1dcff37a-76cf-4389-b142-718ea9bf149e"
      },
      "execution_count": null,
      "outputs": [
        {
          "output_type": "stream",
          "name": "stdout",
          "text": [
            "--2024-03-08 22:23:33--  https://cal-cs288.github.io/sp22/project_files/hw1/pride.txt\n",
            "Resolving cal-cs288.github.io (cal-cs288.github.io)... 185.199.111.153, 185.199.109.153, 185.199.110.153, ...\n",
            "Connecting to cal-cs288.github.io (cal-cs288.github.io)|185.199.111.153|:443... connected.\n",
            "HTTP request sent, awaiting response... 200 OK\n",
            "Length: 796805 (778K) [text/plain]\n",
            "Saving to: ‘pride.txt.2’\n",
            "\n",
            "\rpride.txt.2           0%[                    ]       0  --.-KB/s               \rpride.txt.2         100%[===================>] 778.13K  --.-KB/s    in 0.03s   \n",
            "\n",
            "2024-03-08 22:23:33 (22.9 MB/s) - ‘pride.txt.2’ saved [796805/796805]\n",
            "\n"
          ]
        },
        {
          "output_type": "stream",
          "name": "stderr",
          "text": [
            "Token indices sequence length is longer than the specified maximum sequence length for this model (232946 > 1024). Running this sequence through the model will result in indexing errors\n"
          ]
        }
      ]
    },
    {
      "cell_type": "code",
      "source": [
        "# check that our result file indeed contains strided probabilities\n",
        "output[:10]"
      ],
      "metadata": {
        "colab": {
          "base_uri": "https://localhost:8080/"
        },
        "id": "WApHvTOKH-Oi",
        "outputId": "9ffae3b7-4802-4764-d449-89f264f36efd"
      },
      "execution_count": null,
      "outputs": [
        {
          "output_type": "execute_result",
          "data": {
            "text/plain": [
              "[('ï»¿Chapter', 39.905624866485596),\n",
              " ('Ġ1ĊĊ', 37.768104553222656),\n",
              " ('Ġ', 18.350669860839844),\n",
              " ('Ġ', 18.350669860839844),\n",
              " ('Ġ', 18.350669860839844),\n",
              " ('Ġ', 18.350669860839844),\n",
              " ('Ġ', 18.350669860839844),\n",
              " ('ĠIt', 17.99120330810547),\n",
              " ('Ġis', 21.256128311157227),\n",
              " ('Ġa', 18.57893180847168)]"
            ]
          },
          "metadata": {},
          "execution_count": 13
        }
      ]
    },
    {
      "cell_type": "markdown",
      "source": [
        "### Prompting with Language Models\n",
        "\n",
        "Language models can be coerced into performing a variety of different tasks via *prompting*, as shown in the [GPT-3 paper](https://arxiv.org/abs/2005.14165). At a high level, prompting involves putting a few training examples into the context of a model and then using next word prediction to predict labels. In this sextion, we'll use prompting and the GPT-2 Large model on the sentiment task SST-2. But first, we'll download the dataset:"
      ],
      "metadata": {
        "id": "WHvdmc23B0GH"
      }
    },
    {
      "cell_type": "code",
      "source": [
        "!pip install datasets\n",
        "from datasets import load_dataset\n",
        "dataset = load_dataset(\"glue\", \"sst2\")"
      ],
      "metadata": {
        "id": "BVgepRxSBLYO",
        "colab": {
          "base_uri": "https://localhost:8080/"
        },
        "outputId": "c35d6157-759f-449c-a3a5-3efac32322d2"
      },
      "execution_count": null,
      "outputs": [
        {
          "output_type": "stream",
          "name": "stdout",
          "text": [
            "Requirement already satisfied: datasets in /usr/local/lib/python3.10/dist-packages (2.18.0)\n",
            "Requirement already satisfied: filelock in /usr/local/lib/python3.10/dist-packages (from datasets) (3.13.1)\n",
            "Requirement already satisfied: numpy>=1.17 in /usr/local/lib/python3.10/dist-packages (from datasets) (1.25.2)\n",
            "Requirement already satisfied: pyarrow>=12.0.0 in /usr/local/lib/python3.10/dist-packages (from datasets) (14.0.2)\n",
            "Requirement already satisfied: pyarrow-hotfix in /usr/local/lib/python3.10/dist-packages (from datasets) (0.6)\n",
            "Requirement already satisfied: dill<0.3.9,>=0.3.0 in /usr/local/lib/python3.10/dist-packages (from datasets) (0.3.8)\n",
            "Requirement already satisfied: pandas in /usr/local/lib/python3.10/dist-packages (from datasets) (1.5.3)\n",
            "Requirement already satisfied: requests>=2.19.0 in /usr/local/lib/python3.10/dist-packages (from datasets) (2.31.0)\n",
            "Requirement already satisfied: tqdm>=4.62.1 in /usr/local/lib/python3.10/dist-packages (from datasets) (4.66.2)\n",
            "Requirement already satisfied: xxhash in /usr/local/lib/python3.10/dist-packages (from datasets) (3.4.1)\n",
            "Requirement already satisfied: multiprocess in /usr/local/lib/python3.10/dist-packages (from datasets) (0.70.16)\n",
            "Requirement already satisfied: fsspec[http]<=2024.2.0,>=2023.1.0 in /usr/local/lib/python3.10/dist-packages (from datasets) (2023.6.0)\n",
            "Requirement already satisfied: aiohttp in /usr/local/lib/python3.10/dist-packages (from datasets) (3.9.3)\n",
            "Requirement already satisfied: huggingface-hub>=0.19.4 in /usr/local/lib/python3.10/dist-packages (from datasets) (0.20.3)\n",
            "Requirement already satisfied: packaging in /usr/local/lib/python3.10/dist-packages (from datasets) (23.2)\n",
            "Requirement already satisfied: pyyaml>=5.1 in /usr/local/lib/python3.10/dist-packages (from datasets) (6.0.1)\n",
            "Requirement already satisfied: aiosignal>=1.1.2 in /usr/local/lib/python3.10/dist-packages (from aiohttp->datasets) (1.3.1)\n",
            "Requirement already satisfied: attrs>=17.3.0 in /usr/local/lib/python3.10/dist-packages (from aiohttp->datasets) (23.2.0)\n",
            "Requirement already satisfied: frozenlist>=1.1.1 in /usr/local/lib/python3.10/dist-packages (from aiohttp->datasets) (1.4.1)\n",
            "Requirement already satisfied: multidict<7.0,>=4.5 in /usr/local/lib/python3.10/dist-packages (from aiohttp->datasets) (6.0.5)\n",
            "Requirement already satisfied: yarl<2.0,>=1.0 in /usr/local/lib/python3.10/dist-packages (from aiohttp->datasets) (1.9.4)\n",
            "Requirement already satisfied: async-timeout<5.0,>=4.0 in /usr/local/lib/python3.10/dist-packages (from aiohttp->datasets) (4.0.3)\n",
            "Requirement already satisfied: typing-extensions>=3.7.4.3 in /usr/local/lib/python3.10/dist-packages (from huggingface-hub>=0.19.4->datasets) (4.10.0)\n",
            "Requirement already satisfied: charset-normalizer<4,>=2 in /usr/local/lib/python3.10/dist-packages (from requests>=2.19.0->datasets) (3.3.2)\n",
            "Requirement already satisfied: idna<4,>=2.5 in /usr/local/lib/python3.10/dist-packages (from requests>=2.19.0->datasets) (3.6)\n",
            "Requirement already satisfied: urllib3<3,>=1.21.1 in /usr/local/lib/python3.10/dist-packages (from requests>=2.19.0->datasets) (2.0.7)\n",
            "Requirement already satisfied: certifi>=2017.4.17 in /usr/local/lib/python3.10/dist-packages (from requests>=2.19.0->datasets) (2024.2.2)\n",
            "Requirement already satisfied: python-dateutil>=2.8.1 in /usr/local/lib/python3.10/dist-packages (from pandas->datasets) (2.8.2)\n",
            "Requirement already satisfied: pytz>=2020.1 in /usr/local/lib/python3.10/dist-packages (from pandas->datasets) (2023.4)\n",
            "Requirement already satisfied: six>=1.5 in /usr/local/lib/python3.10/dist-packages (from python-dateutil>=2.8.1->pandas->datasets) (1.16.0)\n"
          ]
        }
      ]
    },
    {
      "cell_type": "code",
      "source": [
        "dataset[\"test\"][20]"
      ],
      "metadata": {
        "colab": {
          "base_uri": "https://localhost:8080/"
        },
        "id": "JdqhwZT8gmgG",
        "outputId": "45ce5bc4-9488-419d-eca1-a599d3cd3477"
      },
      "execution_count": null,
      "outputs": [
        {
          "output_type": "execute_result",
          "data": {
            "text/plain": [
              "{'sentence': 'some , like ballistic , arrive stillborn ... looking like the beaten , well-worn video box cover of seven years into the future .',\n",
              " 'label': -1,\n",
              " 'idx': 20}"
            ]
          },
          "metadata": {},
          "execution_count": 15
        }
      ]
    },
    {
      "cell_type": "markdown",
      "source": [
        "Now, it's time to write a prompt for sentiment prediction. Here's an example what a prompt might look like for the task of machine translation:\n",
        "\n",
        "\n",
        "```\n",
        "The French \"Le Tea Party est atterré.\" in English is \"The tea party is aghast\"\n",
        "The French \"Cela est vraiment indispensable pour notre nation.\" in English is \"This really is a must for our nation.\"\n",
        "The French \"Il va y avoir du changement dans la façon dont nous payons ces taxes.\" in English is \"There is going to be a change in how we pay these taxes.\"\n",
        "The French \"La technologie est là pour le faire.\" in English is\n",
        "```\n",
        "The model would then predict the next tokens, hopefully resulting in an English translation of the final sentence. Note that these examples are all taken from the `wmt14` translation dataset. In our case, however, we'll be predicting sentiment, which is represented by a binary value in the Stanford Sentiment Treebank. To convert next-word predictions into a binary decision, we'll compute the probability of two words (e.g., \"yes\" vs. \"no\") and then choose our label based on whichever one has the highest probability."
      ],
      "metadata": {
        "id": "YpwXJJaaBTXd"
      }
    },
    {
      "cell_type": "code",
      "source": [
        "prompt = \"The sentiment of 'love is a compelling part of human nature' is good. \\\n",
        "            The sentiment of 'an ugly distressing repetitive pattern' is bad. The sentiment \\\n",
        "            of 'wonderful joyous refreshing days ahead' is good. The sentiment of 'depression \\\n",
        "            is a sad but troubling part of life' is bad. The sentiment of 'the broken wine \\\n",
        "            glass bled sluggishly onto the carpet' is bad. The sentiment of '{}' is \".format(sentence)\n",
        "\n",
        "def predict_sentiment(sentence):\n",
        "\n",
        "  encodings = tokenizer(prompt, return_tensors='pt')\n",
        "  test = encodings.input_ids.to(device)\n",
        "\n",
        "  logits = model(test).logits.squeeze(0)\n",
        "  probs = F.log_softmax(logits, dim = 1).squeeze(0)\n",
        "  neg = probs[-1][14774] ; pos = probs[-1][11274]\n",
        "\n",
        "  if neg > pos:\n",
        "    return 0\n",
        "  else:\n",
        "    return 1\n",
        "\n",
        "num_correct = 0\n",
        "for idx in tqdm.tqdm(range(1000)):\n",
        "  example = dataset[\"train\"][idx]\n",
        "  predicted_label = predict_sentiment(example[\"sentence\"])\n",
        "  if predicted_label == example[\"label\"]:\n",
        "    num_correct += 1\n",
        "print()\n",
        "print(\"Accuracy: {}\".format(num_correct / 1000))"
      ],
      "metadata": {
        "colab": {
          "base_uri": "https://localhost:8080/"
        },
        "id": "KoGZrirLABLi",
        "outputId": "6f70bbdd-35dd-436a-babf-0063a0ffa297"
      },
      "execution_count": null,
      "outputs": [
        {
          "output_type": "stream",
          "name": "stderr",
          "text": [
            "100%|██████████| 1000/1000 [01:30<00:00, 11.02it/s]"
          ]
        },
        {
          "output_type": "stream",
          "name": "stdout",
          "text": [
            "\n",
            "Accuracy: 0.542\n"
          ]
        },
        {
          "output_type": "stream",
          "name": "stderr",
          "text": [
            "\n"
          ]
        }
      ]
    },
    {
      "cell_type": "markdown",
      "source": [
        "Our best performing model gets 85% accuracy on this task, and our template-only baseline (i.e., without any training examples in the context) gets 69%. There are numerous prompt formats that score above 70%, but I encourage you to try to beat my scores! Please be aware that prompting can lead to high variance results, and checkout the following paper for additional tips and details: https://arxiv.org/pdf/2102.09690.pdf"
      ],
      "metadata": {
        "id": "o9n-TvW6B4Q8"
      }
    }
  ]
}